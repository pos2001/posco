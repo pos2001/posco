{
 "cells": [
  {
   "cell_type": "markdown",
   "metadata": {},
   "source": [
    "# Getting started with Amazon Braket Hybrid Jobs\n",
    "\n",
    "This tutorial shows how to run your first Amazon Braket Hybrid Job. To get started, we consider a trivial algorithm and a small circuit with only one qubit and one gate.\n",
    "\n",
    "This notebook to large parts follows the example `./Braket examples/hybrid_jobs/0_Creating_your_first_Hybrid_Job`. Further examples of more advanced features can be found in the directory `./Braket examples/hybrid_jobs`.\n",
    "\n",
    "## Learning outcomes\n",
    "* Write an algorithm script to run on Braket Jobs\n",
    "* Understand how to run scripts or functions\n",
    "* Create a job on Braket simulators or QPUs\n",
    "* Monitoring the job state\n",
    "* Save results from a job\n",
    "* Running jobs with priority on QPUs\n",
    "* Use local jobs to quickly test and debug scripts"
   ]
  },
  {
   "cell_type": "markdown",
   "metadata": {},
   "source": [
    "## Toy Problem\n",
    "\n",
    "Most potential candidates for quantum applications don't just run on a QPU. Instead, your workload likely shifts back and forth between a CPU/GPU and a QPU.\n",
    "\n",
    "Let's assume a very simple toy problem to illustrate this:\n",
    "\n",
    "<div class=\"alert alert-block alert-info\">\n",
    "    <b>How does the expectation value of the observable $Z$ change with the angle of an $X$ rotation?</b>\n",
    "</div>\n",
    "\n",
    "<div align=\"center\">\n",
    "    <img src=\"circuit.png\" width=\"400\" />\n",
    "</div>\n",
    "\n",
    "Obviously, this problem can be easily solved analytically. \n",
    "\n",
    "With $$\\left|0\\right> = \\begin{pmatrix} 1 \\\\ 0 \\end{pmatrix}$$ and $$R_x(\\theta) = \\begin{pmatrix} \\cos{\\frac{\\theta}{2}} & -i \\sin{\\frac{\\theta}{2}} \\\\ -i \\sin{\\frac{\\theta}{2}} & \\cos{\\frac{\\theta}{2}} \\end{pmatrix}$$ the quantum state $\\left|\\psi\\right>$ prepared by the circuit above results in $$ \\left|\\psi\\right> = R_x(\\theta) \\left|0\\right> = \\begin{pmatrix} \\cos{\\frac{\\theta}{2}} \\\\ -i \\sin{\\frac{\\theta}{2}} \\end{pmatrix} $$ With the Pauli-Z operator $$ Z = \\begin{pmatrix} 1 & 0 \\\\ 0 & -1 \\end{pmatrix} $$ the expectation value is $$ \\left<\\psi|Z|\\psi\\right> = \\left|\\cos{\\frac{\\theta}{2}}\\right|^2 - \\left|-i \\sin{\\frac{\\theta}{2}}\\right|^2 = \\cos^2{\\frac{\\theta}{2}} - \\sin^2{\\frac{\\theta}{2}} = \\cos{\\theta} $$\n",
    "\n",
    "### Algorithm\n",
    "\n",
    "For the purpose of this tutorial, we sample the result with a **hybrid algorithm** which evaluates $\\left<Z\\right>$ iteratively for given values of $\\theta$. The classical part of the algorithm loops over the sequence of angles and updates the circuit parameter while the quantum part performs the measurement of the expecation value.\n",
    "\n",
    "Let's review how we can code up the algorithm for this problem:"
   ]
  },
  {
   "cell_type": "code",
   "execution_count": 21,
   "metadata": {
    "tags": []
   },
   "outputs": [],
   "source": [
    "from braket.circuits import Circuit, FreeParameter, Observable\n",
    "from braket.jobs.metrics import log_metric\n",
    "\n",
    "import math\n",
    "\n",
    "\n",
    "def run_algorithm(device, n_iterations, step_size, n_shots):\n",
    "    # Let's define our quantum circuit\n",
    "    example_circuit = Circuit().rx(0, FreeParameter(\"theta\"))\n",
    "    example_circuit.expectation(observable=Observable.Z(), target=0)\n",
    "    print(\"Quantum circuit:\")\n",
    "    print(example_circuit)\n",
    "\n",
    "    # Here, our actual algorithm starts:\n",
    "    results = {}\n",
    "    for idx in range(n_iterations):\n",
    "        print(f\">>> Iteration {idx}\")\n",
    "        rx_angle = math.pi * idx * step_size\n",
    "        #rx_angle = math.pi * step_size\n",
    "        result = device.run(\n",
    "            example_circuit,\n",
    "            shots=n_shots,\n",
    "            inputs={\"theta\": rx_angle}\n",
    "        ).result()\n",
    "        exp_val = result.values[0]\n",
    "\n",
    "        log_metric(metric_name=\"rotation_angle\", value=rx_angle, iteration_number=idx)\n",
    "        log_metric(metric_name=\"expectation_value\", value=exp_val, iteration_number=idx)\n",
    "\n",
    "        results[idx] = {\n",
    "            'rx_angle': rx_angle,\n",
    "            'expecation_value': exp_val\n",
    "        }\n",
    "\n",
    "    return results"
   ]
  },
  {
   "cell_type": "markdown",
   "metadata": {},
   "source": [
    "Of crouse, the function `run_algorithm` can be executed locally. "
   ]
  },
  {
   "cell_type": "code",
   "execution_count": 22,
   "metadata": {
    "tags": []
   },
   "outputs": [
    {
     "name": "stdout",
     "output_type": "stream",
     "text": [
      "Quantum circuit:\n",
      "T  : │      0      │   Result Types   │\n",
      "      ┌───────────┐ ┌────────────────┐ \n",
      "q0 : ─┤ Rx(theta) ├─┤ Expectation(Z) ├─\n",
      "      └───────────┘ └────────────────┘ \n",
      "T  : │      0      │   Result Types   │\n",
      "\n",
      "Unassigned parameters: [theta].\n",
      ">>> Iteration 0\n",
      "Metrics - timestamp=1725168307.6941586; rotation_angle=0.0; iteration_number=0;\n",
      "Metrics - timestamp=1725168307.6942425; expectation_value=1.0; iteration_number=0;\n",
      ">>> Iteration 1\n",
      "Metrics - timestamp=1725168310.4196935; rotation_angle=0.3141592653589793; iteration_number=1;\n",
      "Metrics - timestamp=1725168310.419773; expectation_value=0.88; iteration_number=1;\n",
      ">>> Iteration 2\n",
      "Metrics - timestamp=1725168313.1347978; rotation_angle=0.6283185307179586; iteration_number=2;\n",
      "Metrics - timestamp=1725168313.1348822; expectation_value=0.78; iteration_number=2;\n",
      ">>> Iteration 3\n",
      "Metrics - timestamp=1725168315.9404047; rotation_angle=0.9424777960769379; iteration_number=3;\n",
      "Metrics - timestamp=1725168315.9404826; expectation_value=0.74; iteration_number=3;\n",
      ">>> Iteration 4\n",
      "Metrics - timestamp=1725168318.6532238; rotation_angle=1.2566370614359172; iteration_number=4;\n",
      "Metrics - timestamp=1725168318.653298; expectation_value=0.06; iteration_number=4;\n",
      ">>> Iteration 5\n",
      "Metrics - timestamp=1725168321.4185102; rotation_angle=1.5707963267948966; iteration_number=5;\n",
      "Metrics - timestamp=1725168321.4185855; expectation_value=0.12; iteration_number=5;\n"
     ]
    }
   ],
   "source": [
    "from braket.aws import AwsDevice\n",
    "from braket.devices import Devices\n",
    "from pprint import pprint\n",
    "\n",
    "device = AwsDevice(Devices.Amazon.SV1)\n",
    "\n",
    "results = run_algorithm(device, n_iterations=6, step_size=0.1, n_shots=100)"
   ]
  },
  {
   "cell_type": "code",
   "execution_count": 20,
   "metadata": {
    "tags": []
   },
   "outputs": [
    {
     "name": "stdout",
     "output_type": "stream",
     "text": [
      "{0: {'rx_angle': 0.3141592653589793, 'expecation_value': 0.96}, 1: {'rx_angle': 0.3141592653589793, 'expecation_value': 0.98}, 2: {'rx_angle': 0.3141592653589793, 'expecation_value': 0.98}, 3: {'rx_angle': 0.3141592653589793, 'expecation_value': 0.94}, 4: {'rx_angle': 0.3141592653589793, 'expecation_value': 0.98}, 5: {'rx_angle': 0.3141592653589793, 'expecation_value': 0.94}}\n",
      "{0: {'expecation_value': 0.96, 'rx_angle': 0.3141592653589793},\n",
      " 1: {'expecation_value': 0.98, 'rx_angle': 0.3141592653589793},\n",
      " 2: {'expecation_value': 0.98, 'rx_angle': 0.3141592653589793},\n",
      " 3: {'expecation_value': 0.94, 'rx_angle': 0.3141592653589793},\n",
      " 4: {'expecation_value': 0.98, 'rx_angle': 0.3141592653589793},\n",
      " 5: {'expecation_value': 0.94, 'rx_angle': 0.3141592653589793}}\n"
     ]
    }
   ],
   "source": [
    "print(results)\n",
    "pprint(results)"
   ]
  },
  {
   "cell_type": "markdown",
   "metadata": {},
   "source": [
    "Now, we want to explore how this can be run as an Amazon Braket Hybrid Job."
   ]
  },
  {
   "cell_type": "markdown",
   "metadata": {},
   "source": [
    "## The Amazon Braket Hybrid Jobs Workflow\n",
    "\n",
    "* You can use the Amazon Braket console, a managed notebook instance, or local integrated development environment to call the Braket Hybrid Jobs API. \n",
    "* Amazon Braket Hybrid jobs starts a job instance (based on Amazon EC2) and spins up a jobs container which hosts your algorithm code. \n",
    "* In the left flow, the Jobs container then communicates with an on-demand simulator (SV1, DM1, TN1) or a QPU via a Braket API call. \n",
    "* In the right flow, the simulator is embedded directly within the Jobs container, and can be distributed across multiple CPU or GPU instances to accelerate the job. \n",
    "* Job results are stored in Amazon S3, while logs and metrics can be accessed via Amazon CloudWatch."
   ]
  },
  {
   "cell_type": "markdown",
   "metadata": {},
   "source": [
    "<div>\n",
    "<img src=\"hybrid_jobs.png\"/>\n",
    "</div>"
   ]
  },
  {
   "cell_type": "markdown",
   "metadata": {},
   "source": [
    "## Creating a Job\n",
    "\n",
    "To run the algorithm defined above as a Hybrid Job, we only have to create a wrapper function which will run in the job container and prepares the inputs to the function `run_algorithm` and stores its output.\n",
    "\n",
    "Hyperparameters can be specified as function arguments and we simply annotate the function with the [`@hybrid_job` decorator](https://aws.amazon.com/blogs/quantum-computing/explore-quantum-algorithms-faster-by-running-your-local-python-code-as-an-amazon-braket-hybrid-job-with-minimal-code-changes/) where we can specify on which device we want to execute the quantum tasks.\n",
    "\n",
    "Then, we create a hybrid job simply by invoking the wrapper function. "
   ]
  },
  {
   "cell_type": "code",
   "execution_count": 4,
   "metadata": {
    "tags": []
   },
   "outputs": [],
   "source": [
    "from braket.jobs import hybrid_job\n",
    "from braket.tracking import Tracker\n",
    "from braket.jobs.environment_variables import get_job_device_arn"
   ]
  },
  {
   "cell_type": "code",
   "execution_count": 5,
   "metadata": {
    "tags": []
   },
   "outputs": [
    {
     "name": "stdout",
     "output_type": "stream",
     "text": [
      "arn:aws:braket:us-east-1:013288819788:job/676d92b0-ea45-4a22-b715-28cf4c1878c0 QUEUED\n"
     ]
    }
   ],
   "source": [
    "@hybrid_job(device=Devices.Amazon.SV1)\n",
    "def hello_world(n_iterations, step_size, n_shots):\n",
    "    print(\"Execution started\")\n",
    "    cost_tracker = Tracker().start()\n",
    "\n",
    "    device = AwsDevice(get_job_device_arn())\n",
    "    results = run_algorithm(device, n_iterations, step_size, n_shots)\n",
    "\n",
    "    cost_tracker.stop()\n",
    "    print(\"Execution completed\")\n",
    "    return {\n",
    "        \"results\": results,\n",
    "        \"task summary\": cost_tracker.quantum_tasks_statistics(),\n",
    "        \"estimated cost\": float(cost_tracker.simulator_tasks_cost() + cost_tracker.qpu_tasks_cost()),\n",
    "    }\n",
    "\n",
    "\n",
    "job = hello_world(n_iterations=11, step_size=0.1, n_shots=1000)\n",
    "print(f\"{job.arn} {job.state()}\")"
   ]
  },
  {
   "cell_type": "markdown",
   "metadata": {},
   "source": [
    "## Checking the job state\n",
    "\n",
    "The status of a Braket Job can be checked by calling `job.state()`. The state will be one of \"QUEUED\", \"RUNNING\", \"FAILED\", \"COMPLETED\", \"CANCELLING\", or \"CANCELLED\". "
   ]
  },
  {
   "cell_type": "code",
   "execution_count": 6,
   "metadata": {
    "tags": []
   },
   "outputs": [
    {
     "data": {
      "text/plain": [
       "'RUNNING'"
      ]
     },
     "execution_count": 6,
     "metadata": {},
     "output_type": "execute_result"
    }
   ],
   "source": [
    "job.state()"
   ]
  },
  {
   "cell_type": "markdown",
   "metadata": {},
   "source": [
    "## Loading the job result\n",
    "\n",
    "Once completed, the result can be retrieved using `job.result()`. Logs and metadata are also accessible via `job.logs()` and `job.metadata()`. If you lose the reference to the job object, you can always reinstantiate it using your job ARN as `job=AwsQuantumJob(\"your-job-arn\")`. The ARN of a job can be found in the Amazon Braket Console. By default the ARN of a job will be \"`arn:aws:braket:<region>:<account_id>:job/<job_name>`\". "
   ]
  },
  {
   "cell_type": "code",
   "execution_count": 16,
   "metadata": {
    "tags": []
   },
   "outputs": [
    {
     "name": "stdout",
     "output_type": "stream",
     "text": [
      "Create: 2024-09-01 02:39:27.122000+00:00\n",
      "Started: 2024-09-01 02:40:07.358000+00:00\n",
      "Ended: 2024-09-01 02:41:47.138000+00:00\n",
      "\n",
      "Runtime of the job instance: 100000 milliseconds\n",
      "\n",
      "{0: {'expecation_value': 1.0, 'rx_angle': 0.0},\n",
      " 1: {'expecation_value': 0.954, 'rx_angle': 0.3141592653589793},\n",
      " 2: {'expecation_value': 0.832, 'rx_angle': 0.6283185307179586},\n",
      " 3: {'expecation_value': 0.604, 'rx_angle': 0.9424777960769379},\n",
      " 4: {'expecation_value': 0.308, 'rx_angle': 1.2566370614359172},\n",
      " 5: {'expecation_value': -0.008, 'rx_angle': 1.5707963267948966},\n",
      " 6: {'expecation_value': -0.314, 'rx_angle': 1.8849555921538759},\n",
      " 7: {'expecation_value': -0.6, 'rx_angle': 2.199114857512855},\n",
      " 8: {'expecation_value': -0.822, 'rx_angle': 2.5132741228718345},\n",
      " 9: {'expecation_value': -0.952, 'rx_angle': 2.827433388230814},\n",
      " 10: {'expecation_value': -1.0, 'rx_angle': 3.141592653589793}}\n"
     ]
    }
   ],
   "source": [
    "from pprint import pprint\n",
    "\n",
    "result = job.result()\n",
    "print(f\"Create: {job.metadata()['createdAt']}\")\n",
    "print(f\"Started: {job.metadata()['startedAt']}\")\n",
    "print(f\"Ended: {job.metadata()['endedAt']}\")\n",
    "print()\n",
    "print(f\"Runtime of the job instance: {job.metadata()['billableDuration']} milliseconds\")\n",
    "print()\n",
    "pprint(result['results'])"
   ]
  },
  {
   "cell_type": "code",
   "execution_count": 8,
   "metadata": {
    "tags": []
   },
   "outputs": [],
   "source": [
    "# print(job.logs()) # uncomment to print logs"
   ]
  },
  {
   "cell_type": "code",
   "execution_count": 9,
   "metadata": {
    "tags": []
   },
   "outputs": [
    {
     "name": "stdout",
     "output_type": "stream",
     "text": [
      "Task Summary\n",
      "{'arn:aws:braket:::device/quantum-simulator/amazon/sv1': {'shots': 11000, 'tasks': {'COMPLETED': 11}, 'execution_duration': datetime.timedelta(microseconds=125000), 'billed_execution_duration': datetime.timedelta(seconds=33)}}\n",
      "Note: Charges shown are estimates based on your Amazon Braket simulator and quantum processing unit (QPU) task usage. Estimated charges shown may differ from your actual charges. Estimated charges do not factor in any discounts or credits, and you may experience additional charges based on your use of other services such as Amazon Elastic Compute Cloud (Amazon EC2).\n",
      "Estimated cost to run tasks in this job: 0.04125 USD\n",
      "\n",
      "Billable duration of the job instance: 100000 milliseconds\n"
     ]
    }
   ],
   "source": [
    "print(\"Task Summary\")\n",
    "print(job.result()['task summary'])\n",
    "print('Note: Charges shown are estimates based on your Amazon Braket simulator and quantum processing unit (QPU) task usage. Estimated charges shown may differ from your actual charges. Estimated charges do not factor in any discounts or credits, and you may experience additional charges based on your use of other services such as Amazon Elastic Compute Cloud (Amazon EC2).')\n",
    "print(f\"Estimated cost to run tasks in this job: {job.result()['estimated cost']} USD\")\n",
    "print()\n",
    "print(f\"Billable duration of the job instance: {job.metadata()['billableDuration']} milliseconds\")"
   ]
  },
  {
   "cell_type": "markdown",
   "metadata": {},
   "source": [
    "## Verify Results of our Toy Algorithm\n",
    "\n",
    "Finally, let's verify the result of our algorithms matches our expectation:"
   ]
  },
  {
   "cell_type": "code",
   "execution_count": 10,
   "metadata": {
    "tags": []
   },
   "outputs": [
    {
     "data": {
      "image/png": "[encoded data removed]",
      "text/plain": [
       "<Figure size 640x480 with 1 Axes>"
      ]
     },
     "metadata": {},
     "output_type": "display_data"
    }
   ],
   "source": [
    "import matplotlib.pyplot as plt\n",
    "import numpy as np\n",
    "\n",
    "angles = [item['rx_angle'] for item in result['results'].values()]\n",
    "exp_values_measured = [item['expecation_value'] for item in result['results'].values()]\n",
    "exp_values_actual = np.cos(angles)\n",
    "\n",
    "plt.plot(angles, exp_values_actual, '-', color='blue')\n",
    "plt.plot(angles, exp_values_measured, 'o', color='red')\n",
    "plt.draw()"
   ]
  },
  {
   "cell_type": "markdown",
   "metadata": {},
   "source": [
    "## Running jobs with priority on QPUs\n",
    "\n",
    "With Braket Jobs, you can run hybrid algorithms on all QPUs available through Amazon Braket. When you select a QPU as your device, your job will have priority access for the duration of your job. Quantum tasks created as part of your job will be executed ahead of other tasks in the device queue. This reduces the risk of certain tasks being delayed or drifting calibrations on the device. \n",
    "\n",
    "Before you create a hybrid job which runs tasks on a QPU, you can check how many quantum tasks or hybrid jobs are in front of you by checking device queue depth.\n",
    "\n",
    "You can seamlessly swap the SV1 simulator for a QPU by changing the device argument in the decorator. \n",
    "\n",
    "When you create the job, Amazon Braket will wait for the QPU to become available before initializing the job. Note that the Braket Job will automatically select the AWS region where the device is available. As mentioned earlier, the specified device is provided to the job in the environment variable `AMZN_BRAKET_DEVICE_ARN`; the script `algorithm_script.py` uses this variable to choose the Braket device to use."
   ]
  },
  {
   "cell_type": "code",
   "execution_count": 11,
   "metadata": {
    "tags": []
   },
   "outputs": [
    {
     "name": "stdout",
     "output_type": "stream",
     "text": [
      "QueueDepthInfo(quantum_tasks={<QueueType.NORMAL: 'Normal'>: '0', <QueueType.PRIORITY: 'Priority'>: '0'}, jobs='0')\n"
     ]
    }
   ],
   "source": [
    "from braket.aws import AwsDevice\n",
    "from braket.devices import Devices\n",
    "\n",
    "# This device is used for demonstration purposes only. The actual device used for our job has been specified above.\n",
    "device = AwsDevice(Devices.Rigetti.AspenM3)\n",
    "print(device.queue_depth())"
   ]
  },
  {
   "cell_type": "markdown",
   "metadata": {},
   "source": [
    "* Normal task queue depth refers to the total number of quantum tasks currently waiting to run in normal priority.\n",
    "* Priority task queue depth refers to the total number of submitted quantum tasks waiting to run through Amazon Braket Hybrid Jobs. These tasks run before standalone tasks.\n",
    "* Hybrid jobs queue depth refers to the total number of hybrid jobs currently queued on a device. Quantum tasks submitted as part of a hybrid job have priority, and are aggregated in the Priority Task Queue.\n",
    "\n",
    "\n",
    "After you have created a hybrid job, you can track its current position within a respective device queue."
   ]
  },
  {
   "cell_type": "code",
   "execution_count": 12,
   "metadata": {
    "tags": []
   },
   "outputs": [
    {
     "data": {
      "text/plain": [
       "HybridJobQueueInfo(queue_position=None, message='Job is in COMPLETED status. AmazonBraket does not show queue position for this status.')"
      ]
     },
     "execution_count": 12,
     "metadata": {},
     "output_type": "execute_result"
    }
   ],
   "source": [
    "job.queue_position()"
   ]
  },
  {
   "cell_type": "markdown",
   "metadata": {},
   "source": [
    "Jobs running task on an on-demand simulator are transitioning quickly to the `RUNNING` state. In this case, the job does not have a queue position anymore."
   ]
  },
  {
   "cell_type": "markdown",
   "metadata": {},
   "source": [
    "## Debugging with local Braket Jobs\n",
    "\n",
    "For faster testing and debugging of your code, you can run a job locally in your own environment. This feature requires Docker to be installed in your local environment. Amazon Braket notebooks have Docker pre-installed, so you can test local jobs in hosted notebooks instantly. To install Docker in your local environment, follow these [instructions](https://docs.docker.com/get-docker/). When a local job is created for the first time, it will take longer because it needs to build the container. The subsequent runs will be faster. Note that local jobs will not be visible in the Amazon Braket Console.\n",
    "\n",
    "To run a job in local mode, make sure the Docker daemon is running, and then simply add `local=True` to the hybrid job decorator. Local jobs run synchronously and display the logs."
   ]
  },
  {
   "cell_type": "code",
   "execution_count": 13,
   "metadata": {
    "tags": []
   },
   "outputs": [
    {
     "name": "stderr",
     "output_type": "stream",
     "text": [
      "WARNING! Using --password via the CLI is insecure. Use --password-stdin.\n",
      "WARNING! Your password will be stored unencrypted in /home/ec2-user/.docker/config.json.\n",
      "Configure a credential helper to remove this warning. See\n",
      "https://docs.docker.com/engine/reference/commandline/login/#credentials-store\n",
      "\n",
      "Pulling docker container image. This may take a while.\n"
     ]
    },
    {
     "name": "stdout",
     "output_type": "stream",
     "text": [
      "Login Succeeded\n",
      "latest: Pulling from amazon-braket-base-jobs\n",
      "762bedf4b1b7: Pulling fs layer\n",
      "d2bc5ba3cab6: Pulling fs layer\n",
      "c279a6f257b8: Pulling fs layer\n",
      "1001faade8d4: Pulling fs layer\n",
      "09248652bd77: Pulling fs layer\n",
      "4602605aabf0: Pulling fs layer\n",
      "af048df3b84e: Pulling fs layer\n",
      "e96072c485dc: Pulling fs layer\n",
      "ac0efc7b0fc7: Pulling fs layer\n",
      "2e0d19604dd2: Pulling fs layer\n",
      "e67318c5b12b: Pulling fs layer\n",
      "e1c4c8a68602: Pulling fs layer\n",
      "34ce40742040: Pulling fs layer\n",
      "37464e813689: Pulling fs layer\n",
      "75f03a7f135b: Pulling fs layer\n",
      "07c357c800ed: Pulling fs layer\n",
      "4602605aabf0: Waiting\n",
      "af048df3b84e: Waiting\n",
      "2e0d19604dd2: Waiting\n",
      "34ce40742040: Waiting\n",
      "e67318c5b12b: Waiting\n",
      "e96072c485dc: Waiting\n",
      "ac0efc7b0fc7: Waiting\n",
      "e1c4c8a68602: Waiting\n",
      "1001faade8d4: Waiting\n",
      "75f03a7f135b: Waiting\n",
      "37464e813689: Waiting\n",
      "07c357c800ed: Waiting\n",
      "c279a6f257b8: Download complete\n",
      "1001faade8d4: Download complete\n",
      "09248652bd77: Verifying Checksum\n",
      "09248652bd77: Download complete\n",
      "4602605aabf0: Download complete\n",
      "762bedf4b1b7: Verifying Checksum\n",
      "762bedf4b1b7: Download complete\n",
      "af048df3b84e: Verifying Checksum\n",
      "af048df3b84e: Download complete\n",
      "e96072c485dc: Verifying Checksum\n",
      "e96072c485dc: Download complete\n",
      "2e0d19604dd2: Verifying Checksum\n",
      "2e0d19604dd2: Download complete\n",
      "e67318c5b12b: Download complete\n",
      "ac0efc7b0fc7: Verifying Checksum\n",
      "ac0efc7b0fc7: Download complete\n",
      "34ce40742040: Verifying Checksum\n",
      "34ce40742040: Download complete\n",
      "762bedf4b1b7: Pull complete\n",
      "e1c4c8a68602: Verifying Checksum\n",
      "e1c4c8a68602: Download complete\n",
      "75f03a7f135b: Verifying Checksum\n",
      "75f03a7f135b: Download complete\n",
      "07c357c800ed: Verifying Checksum\n",
      "07c357c800ed: Download complete\n",
      "d2bc5ba3cab6: Verifying Checksum\n",
      "d2bc5ba3cab6: Download complete\n",
      "37464e813689: Verifying Checksum\n",
      "37464e813689: Download complete\n",
      "d2bc5ba3cab6: Pull complete\n",
      "c279a6f257b8: Pull complete\n",
      "1001faade8d4: Pull complete\n",
      "09248652bd77: Pull complete\n",
      "4602605aabf0: Pull complete\n",
      "af048df3b84e: Pull complete\n",
      "e96072c485dc: Pull complete\n",
      "ac0efc7b0fc7: Pull complete\n",
      "2e0d19604dd2: Pull complete\n",
      "e67318c5b12b: Pull complete\n",
      "e1c4c8a68602: Pull complete\n",
      "34ce40742040: Pull complete\n",
      "37464e813689: Pull complete\n",
      "75f03a7f135b: Pull complete\n",
      "07c357c800ed: Pull complete\n",
      "Digest: sha256:e16992b675d6d3c7dcc61b188bb138ae003befc5a009d67d4912d3031e0f9589\n",
      "Status: Downloaded newer image for 292282985366.dkr.ecr.us-east-1.amazonaws.com/amazon-braket-base-jobs:latest\n",
      "292282985366.dkr.ecr.us-east-1.amazonaws.com/amazon-braket-base-jobs:latest\n"
     ]
    },
    {
     "name": "stderr",
     "output_type": "stream",
     "text": [
      "Using the short-lived AWS credentials found in session. They might expire while running.\n"
     ]
    },
    {
     "name": "stdout",
     "output_type": "stream",
     "text": [
      "Boto3 Version:  1.34.96\n",
      "Beginning Setup\n",
      "Checking for Additional Requirements\n",
      "Additional Requirements Check Finished\n",
      "Running Code As Process\n",
      "Execution started\n",
      "Quantum circuit:\n",
      "T  : │      0      │   Result Types   │\n",
      "      ┌───────────┐ ┌────────────────┐ \n",
      "q0 : ─┤ Rx(theta) ├─┤ Expectation(Z) ├─\n",
      "      └───────────┘ └────────────────┘ \n",
      "T  : │      0      │   Result Types   │\n",
      "\n",
      "Unassigned parameters: [theta].\n",
      ">>> Iteration 0\n",
      "Metrics - timestamp=1725158625.0748582; rotation_angle=0.0; iteration_number=0;\n",
      "Metrics - timestamp=1725158625.074891; expectation_value=1.0; iteration_number=0;\n",
      ">>> Iteration 1\n",
      "Metrics - timestamp=1725158627.9937587; rotation_angle=0.3141592653589793; iteration_number=1;\n",
      "Metrics - timestamp=1725158627.993785; expectation_value=0.956; iteration_number=1;\n",
      ">>> Iteration 2\n",
      "Metrics - timestamp=1725158630.8331468; rotation_angle=0.6283185307179586; iteration_number=2;\n",
      "Metrics - timestamp=1725158630.8331757; expectation_value=0.778; iteration_number=2;\n",
      ">>> Iteration 3\n",
      "Metrics - timestamp=1725158633.6724916; rotation_angle=0.9424777960769379; iteration_number=3;\n",
      "Metrics - timestamp=1725158633.6725192; expectation_value=0.594; iteration_number=3;\n",
      ">>> Iteration 4\n",
      "Metrics - timestamp=1725158636.4863405; rotation_angle=1.2566370614359172; iteration_number=4;\n",
      "Metrics - timestamp=1725158636.486372; expectation_value=0.35; iteration_number=4;\n",
      ">>> Iteration 5\n",
      "Metrics - timestamp=1725158639.3675416; rotation_angle=1.5707963267948966; iteration_number=5;\n",
      "Metrics - timestamp=1725158639.3675687; expectation_value=-0.004; iteration_number=5;\n",
      ">>> Iteration 6\n",
      "Metrics - timestamp=1725158642.7925384; rotation_angle=1.8849555921538759; iteration_number=6;\n",
      "Metrics - timestamp=1725158642.792567; expectation_value=-0.32; iteration_number=6;\n",
      ">>> Iteration 7\n",
      "Metrics - timestamp=1725158645.6947842; rotation_angle=2.199114857512855; iteration_number=7;\n",
      "Metrics - timestamp=1725158645.6948144; expectation_value=-0.58; iteration_number=7;\n",
      ">>> Iteration 8\n",
      "Metrics - timestamp=1725158648.5481088; rotation_angle=2.5132741228718345; iteration_number=8;\n",
      "Metrics - timestamp=1725158648.5481374; expectation_value=-0.83; iteration_number=8;\n",
      ">>> Iteration 9\n",
      "Metrics - timestamp=1725158651.4528797; rotation_angle=2.827433388230814; iteration_number=9;\n",
      "Metrics - timestamp=1725158651.452911; expectation_value=-0.954; iteration_number=9;\n",
      ">>> Iteration 10\n",
      "Metrics - timestamp=1725158654.2302864; rotation_angle=3.141592653589793; iteration_number=10;\n",
      "Metrics - timestamp=1725158654.2303178; expectation_value=-1.0; iteration_number=10;\n",
      "Execution completed\n",
      "Code Run Finished\n",
      "3f39eeca66d26157251940c6403c4b1f1ea2466c5b3910617a514cd238c97874\n",
      "local:job/run-local-job-1725158595884 COMPLETED\n"
     ]
    }
   ],
   "source": [
    "@hybrid_job(device=\"arn:aws:braket:::device/quantum-simulator/amazon/sv1\", local=True)\n",
    "def run_local_job(n_iterations, step_size, n_shots):\n",
    "    print(\"Execution started\")\n",
    "    cost_tracker = Tracker().start()\n",
    "\n",
    "    device = AwsDevice(get_job_device_arn())\n",
    "    results = run_algorithm(device, n_iterations, step_size, n_shots)\n",
    "\n",
    "    cost_tracker.stop()\n",
    "    print(\"Execution completed\")\n",
    "    return {\n",
    "        \"results\": results,\n",
    "        \"task summary\": cost_tracker.quantum_tasks_statistics(),\n",
    "        \"estimated cost\": float(cost_tracker.simulator_tasks_cost() + cost_tracker.qpu_tasks_cost()),\n",
    "    }\n",
    "\n",
    "\n",
    "local_job = run_local_job(n_iterations=11, step_size=0.1, n_shots=1000)\n",
    "print(f\"{local_job.arn} {local_job.state()}\")"
   ]
  },
  {
   "cell_type": "code",
   "execution_count": 14,
   "metadata": {},
   "outputs": [
    {
     "name": "stdout",
     "output_type": "stream",
     "text": [
      "Task Summary\n",
      "{'arn:aws:braket:::device/quantum-simulator/amazon/sv1': {'shots': 11000, 'tasks': {'COMPLETED': 11}, 'execution_duration': datetime.timedelta(microseconds=187000), 'billed_execution_duration': datetime.timedelta(seconds=33)}}\n",
      "Note: Charges shown are estimates based on your Amazon Braket simulator and quantum processing unit (QPU) task usage. Estimated charges shown may differ from your actual charges. Estimated charges do not factor in any discounts or credits, and you may experience additional charges based on your use of other services such as Amazon Elastic Compute Cloud (Amazon EC2).\n",
      "Estimated cost to run tasks in this job: 0.04125 USD\n"
     ]
    }
   ],
   "source": [
    "print(\"Task Summary\")\n",
    "print(local_job.result()['task summary'])\n",
    "print('Note: Charges shown are estimates based on your Amazon Braket simulator and quantum processing unit (QPU) task usage. Estimated charges shown may differ from your actual charges. Estimated charges do not factor in any discounts or credits, and you may experience additional charges based on your use of other services such as Amazon Elastic Compute Cloud (Amazon EC2).')\n",
    "print(f\"Estimated cost to run tasks in this job: {job.result()['estimated cost']} USD\")"
   ]
  },
  {
   "cell_type": "code",
   "execution_count": null,
   "metadata": {},
   "outputs": [],
   "source": []
  },
  {
   "cell_type": "code",
   "execution_count": null,
   "metadata": {},
   "outputs": [],
   "source": []
  }
 ],
 "metadata": {
  "kernelspec": {
   "display_name": "conda_braket",
   "language": "python",
   "name": "conda_braket"
  },
  "language_info": {
   "codemirror_mode": {
    "name": "ipython",
    "version": 3
   },
   "file_extension": ".py",
   "mimetype": "text/x-python",
   "name": "python",
   "nbconvert_exporter": "python",
   "pygments_lexer": "ipython3",
   "version": "3.10.14"
  },
  "vscode": {
   "interpreter": {
    "hash": "590fab68195cf107911461461f81d5c472d3d6127f579badfcfad30f03e5cab2"
   }
  }
 },
 "nbformat": 4,
 "nbformat_minor": 4
}
