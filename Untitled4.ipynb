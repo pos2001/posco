{
 "cells": [
  {
   "cell_type": "code",
   "execution_count": 4,
   "id": "a4360336-fc90-4a2d-a2d2-94b5f5e9c1c6",
   "metadata": {
    "tags": []
   },
   "outputs": [
    {
     "name": "stdout",
     "output_type": "stream",
     "text": [
      "Ankaa-2 QPU 결과: Counter({'00': 585, '11': 337, '10': 47, '01': 31})\n",
      "DM1 시뮬레이터 결과 (노이즈 포함): Counter({'00': 497, '11': 448, '10': 30, '01': 25})\n",
      "DM1 시뮬레이터 결과 (노이즈 없음): Counter({'11': 504, '00': 496})\n"
     ]
    }
   ],
   "source": [
    "from braket.circuits import Circuit, Gate, Noise\n",
    "from braket.devices import LocalSimulator\n",
    "from braket.aws import AwsDevice\n",
    "import numpy as np\n",
    "\n",
    "# Ankaa-2 디바이스 정의\n",
    "device = AwsDevice(\"arn:aws:braket:us-west-1::device/qpu/rigetti/Ankaa-2\")\n",
    "\n",
    "# 사용할 큐비트 선택 (실제 가용한 큐비트로 변경 필요)\n",
    "q1 = 0\n",
    "q2 = 1\n",
    "\n",
    "# 회로 생성\n",
    "circuit = Circuit()\n",
    "circuit.rz(q1, np.pi/2).rx(q1, np.pi/2)\n",
    "circuit.rz(q2, -np.pi/2).rx(q2, np.pi/2)\n",
    "circuit.cz(q2, q1)\n",
    "circuit.rx(q2, -np.pi/2).rz(q1, -np.pi/2).rz(q2, -np.pi/2)\n",
    "\n",
    "# Ankaa-2 QPU에서 실행 (노이즈 모델 없이)\n",
    "try:\n",
    "    task_qpu = device.run(circuit, shots=1000)\n",
    "    result_qpu = task_qpu.result()\n",
    "    count_qpu = result_qpu.measurement_counts\n",
    "    print(\"Ankaa-2 QPU 결과:\", count_qpu)\n",
    "except Exception as e:\n",
    "    print(\"Ankaa-2 QPU 실행 오류:\", str(e))\n",
    "\n",
    "# DM1 시뮬레이터에서 실행 (노이즈 모델 포함)\n",
    "dm1_simulator = LocalSimulator(\"braket_dm\")\n",
    "\n",
    "# 노이즈 모델 적용 (시뮬레이터용)\n",
    "noise_circuit = circuit.copy()\n",
    "\n",
    "# 예시 노이즈 값 (실제 값으로 대체 필요)\n",
    "depolar_rate_1Q = 0.01\n",
    "depolar_rate_2Q = 0.02\n",
    "readout_error = 0.005\n",
    "\n",
    "noise1Q = Noise.Depolarizing(probability=depolar_rate_1Q)\n",
    "noise2Q = Noise.TwoQubitDepolarizing(probability=depolar_rate_2Q)\n",
    "\n",
    "noise_circuit.apply_gate_noise(noise1Q, target_gates=[Gate.Rx, Gate.Rz], target_qubits=[q1, q2])\n",
    "noise_circuit.apply_gate_noise(noise2Q, target_gates=[Gate.CZ])\n",
    "noise_circuit.apply_readout_noise(Noise.BitFlip(probability=readout_error), target_qubits=[q1, q2])\n",
    "\n",
    "task_dm1 = dm1_simulator.run(noise_circuit, shots=1000)\n",
    "result_dm1 = task_dm1.result()\n",
    "count_dm1 = result_dm1.measurement_counts\n",
    "print(\"DM1 시뮬레이터 결과 (노이즈 포함):\", count_dm1)\n",
    "\n",
    "# 노이즈 없는 시뮬레이션 결과도 비교\n",
    "task_dm1_no_noise = dm1_simulator.run(circuit, shots=1000)\n",
    "result_dm1_no_noise = task_dm1_no_noise.result()\n",
    "count_dm1_no_noise = result_dm1_no_noise.measurement_counts\n",
    "print(\"DM1 시뮬레이터 결과 (노이즈 없음):\", count_dm1_no_noise)"
   ]
  },
  {
   "cell_type": "code",
   "execution_count": null,
   "id": "8cf0c4ec-08ce-436e-bce7-38c323a62493",
   "metadata": {},
   "outputs": [],
   "source": []
  }
 ],
 "metadata": {
  "kernelspec": {
   "display_name": "conda_braket",
   "language": "python",
   "name": "conda_braket"
  },
  "language_info": {
   "codemirror_mode": {
    "name": "ipython",
    "version": 3
   },
   "file_extension": ".py",
   "mimetype": "text/x-python",
   "name": "python",
   "nbconvert_exporter": "python",
   "pygments_lexer": "ipython3",
   "version": "3.10.14"
  }
 },
 "nbformat": 4,
 "nbformat_minor": 5
}
