{
 "cells": [
  {
   "cell_type": "markdown",
   "id": "a395d4a9-bc55-400f-933f-12cf517c1150",
   "metadata": {
    "tags": []
   },
   "source": [
    "#amazon braket에서 노이즈 시뮬레이터를 사용하는 코드 예시는? 결과에서 왜 '01', '10'이 안나오는지 모르겠음"
   ]
  },
  {
   "cell_type": "code",
   "execution_count": 1,
   "id": "56b000fd-ba74-47cf-a876-f2cb46ec31c0",
   "metadata": {
    "tags": []
   },
   "outputs": [],
   "source": [
    "import boto3\n",
    "from braket.aws import AwsDevice\n",
    "from braket.circuits import Circuit\n",
    "from braket.devices import LocalSimulator"
   ]
  },
  {
   "cell_type": "code",
   "execution_count": 2,
   "id": "62d16903-16a3-4962-8fd0-84f6a2b20a85",
   "metadata": {
    "tags": []
   },
   "outputs": [],
   "source": [
    "# AWS 세션 생성\n",
    "#session = boto3.Session(region_name='us-west-2')\n",
    "\n",
    "# 노이즈 시뮬레이터 디바이스 선택\n",
    "device = AwsDevice(\"arn:aws:braket:::device/quantum-simulator/amazon/dm1\")"
   ]
  },
  {
   "cell_type": "code",
   "execution_count": 3,
   "id": "326462d1-e1e6-4f67-a4cf-a6ead738d15c",
   "metadata": {
    "tags": []
   },
   "outputs": [],
   "source": [
    "# 간단한 양자 회로 생성\n",
    "circuit = Circuit().h(0).cnot(0, 1)"
   ]
  },
  {
   "cell_type": "code",
   "execution_count": 4,
   "id": "9c193588-faee-4251-bbec-b92d4c0d5139",
   "metadata": {
    "tags": []
   },
   "outputs": [],
   "source": [
    "# 노이즈 모델 설정\n",
    "noise_model = {\n",
    "    \"bitFlip\": {\"probability\": 0.1},\n",
    "    \"phaseFlip\": {\"probability\": 0.1},\n",
    "    \"amplitudeDamping\": {\"gamma\": 0.1},\n",
    "    \"readoutError\": {\"probabilities\": [[0.9, 0.1], [0.1, 0.9]]}\n",
    "}\n"
   ]
  },
  {
   "cell_type": "code",
   "execution_count": 5,
   "id": "baeb11fb-5a1b-45e5-bf8f-860c45b956f8",
   "metadata": {
    "tags": []
   },
   "outputs": [],
   "source": [
    "# 노이즈 시뮬레이션 실행\n",
    "task = device.run(\n",
    "    circuit,\n",
    "    shots=1000,\n",
    "    device_parameters={\"noise\": noise_model}  # 여기를 수정\n",
    ")\n"
   ]
  },
  {
   "cell_type": "code",
   "execution_count": 6,
   "id": "d3a197d3-cee8-42df-9fba-6c96c5ea36c2",
   "metadata": {
    "tags": []
   },
   "outputs": [],
   "source": [
    "# 결과 가져오기\n",
    "result = task.result()"
   ]
  },
  {
   "cell_type": "code",
   "execution_count": 7,
   "id": "206adf49-5458-4edb-b317-bbcea83b0898",
   "metadata": {
    "tags": []
   },
   "outputs": [
    {
     "name": "stdout",
     "output_type": "stream",
     "text": [
      "Counter({'00': 513, '11': 487})\n"
     ]
    }
   ],
   "source": [
    "# 결과 출력\n",
    "print(result.measurement_counts)"
   ]
  },
  {
   "cell_type": "code",
   "execution_count": null,
   "id": "301b84c3-af64-4613-846c-7207bddf2bef",
   "metadata": {},
   "outputs": [],
   "source": []
  }
 ],
 "metadata": {
  "kernelspec": {
   "display_name": "conda_braket",
   "language": "python",
   "name": "conda_braket"
  },
  "language_info": {
   "codemirror_mode": {
    "name": "ipython",
    "version": 3
   },
   "file_extension": ".py",
   "mimetype": "text/x-python",
   "name": "python",
   "nbconvert_exporter": "python",
   "pygments_lexer": "ipython3",
   "version": "3.10.14"
  }
 },
 "nbformat": 4,
 "nbformat_minor": 5
}
