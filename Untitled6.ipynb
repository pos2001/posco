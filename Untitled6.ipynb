{
 "cells": [
  {
   "cell_type": "code",
   "execution_count": 7,
   "id": "6a9d4ffe-055c-4b3f-90bd-be69f801d7ea",
   "metadata": {
    "tags": []
   },
   "outputs": [
    {
     "name": "stdout",
     "output_type": "stream",
     "text": [
      "Ankaa-2 QPU 결과: Counter({'00': 573, '11': 347, '10': 48, '01': 32})\n",
      "DM1 시뮬레이터 결과 (노이즈 포함): Counter({'00': 523, '11': 458, '01': 11, '10': 8})\n"
     ]
    }
   ],
   "source": [
    "from braket.circuits import Circuit, Gate, Noise\n",
    "from braket.devices import LocalSimulator\n",
    "from braket.aws import AwsDevice\n",
    "import numpy as np\n",
    "\n",
    "# Ankaa-2 디바이스 정의\n",
    "device = AwsDevice(\"arn:aws:braket:us-west-1::device/qpu/rigetti/Ankaa-2\")\n",
    "\n",
    "# 사용할 큐비트 선택 (실제 가용한 큐비트로 변경 필요)\n",
    "q1, q2 = 0, 1\n",
    "\n",
    "# 실제 디바이스 특성 가져오기 (예시 값, 실제로는 디바이스에서 가져와야 함)\n",
    "t1_q1, t2_q1 = 20e-6, 15e-6  # 큐비트 1의 T1, T2 시간\n",
    "t1_q2, t2_q2 = 20e-6, 15e-6  # 큐비트 2의 T1, T2 시간\n",
    "gate_times = {\n",
    "    'rx': 20e-9, 'rz': 0, 'cz': 100e-9  # 게이트 실행 시간\n",
    "}\n",
    "\n",
    "# 감쇠 및 위상 감쇠 노이즈 모델 생성 함수\n",
    "def create_noise_model(t1, t2, gate_time):\n",
    "    gamma1 = 1 / t1\n",
    "    gamma2 = 1 / t2 - 1 / (2 * t1)\n",
    "    gamma_amp = 1 - np.exp(-gamma1 * gate_time)\n",
    "    gamma_phase = 1 - np.exp(-gamma2 * gate_time)\n",
    "    return (Noise.AmplitudeDamping(gamma_amp), Noise.PhaseDamping(gamma_phase))\n",
    "\n",
    "# 회로 생성\n",
    "circuit = Circuit()\n",
    "circuit.rz(q1, np.pi/2).rx(q1, np.pi/2)\n",
    "circuit.rz(q2, -np.pi/2).rx(q2, np.pi/2)\n",
    "circuit.cz(q2, q1)\n",
    "circuit.rx(q2, -np.pi/2).rz(q1, -np.pi/2).rz(q2, -np.pi/2)\n",
    "\n",
    "# 노이즈 모델 적용\n",
    "noise_circuit = circuit.copy()\n",
    "\n",
    "# 각 게이트에 노이즈 적용\n",
    "for gate in noise_circuit.instructions:\n",
    "    if isinstance(gate.operator, Gate.Rx) or isinstance(gate.operator, Gate.Rz):\n",
    "        noise_model = create_noise_model(t1_q1 if gate.target[0] == q1 else t1_q2,\n",
    "                                         t2_q1 if gate.target[0] == q1 else t2_q2,\n",
    "                                         gate_times[gate.operator.name.lower()])\n",
    "        for noise in noise_model:\n",
    "            noise_circuit.apply_gate_noise(noise, target_qubits=[int(t) for t in gate.target])\n",
    "    elif isinstance(gate.operator, Gate.CZ):\n",
    "        noise_model = create_noise_model(min(t1_q1, t1_q2), min(t2_q1, t2_q2), gate_times['cz'])\n",
    "        for noise in noise_model:\n",
    "            noise_circuit.apply_gate_noise(noise, target_qubits=[int(t) for t in gate.target])\n",
    "\n",
    "# Ankaa-2 QPU에서 실행 (노이즈 모델 없이)\n",
    "try:\n",
    "    task_qpu = device.run(circuit, shots=1000)\n",
    "    result_qpu = task_qpu.result()\n",
    "    count_qpu = result_qpu.measurement_counts\n",
    "    print(\"Ankaa-2 QPU 결과:\", count_qpu)\n",
    "except Exception as e:\n",
    "    print(\"Ankaa-2 QPU 실행 오류:\", str(e))\n",
    "\n",
    "# DM1 시뮬레이터에서 실행 (노이즈 모델 포함)\n",
    "dm1_simulator = LocalSimulator(\"braket_dm\")\n",
    "\n",
    "# 노이즈가 있는 시뮬레이션 실행\n",
    "task_dm1 = dm1_simulator.run(noise_circuit, shots=1000)\n",
    "result_dm1 = task_dm1.result()\n",
    "count_dm1 = result_dm1.measurement_counts\n",
    "print(\"DM1 시뮬레이터 결과 (노이즈 포함):\", count_dm1)\n",
    "\n",
    "# 노이즈 없는 시뮬레이션 결과"
   ]
  },
  {
   "cell_type": "code",
   "execution_count": null,
   "id": "408aefed-c3cc-4d04-b6aa-44c8cb4992d1",
   "metadata": {},
   "outputs": [],
   "source": []
  }
 ],
 "metadata": {
  "kernelspec": {
   "display_name": "conda_braket",
   "language": "python",
   "name": "conda_braket"
  },
  "language_info": {
   "codemirror_mode": {
    "name": "ipython",
    "version": 3
   },
   "file_extension": ".py",
   "mimetype": "text/x-python",
   "name": "python",
   "nbconvert_exporter": "python",
   "pygments_lexer": "ipython3",
   "version": "3.10.14"
  }
 },
 "nbformat": 4,
 "nbformat_minor": 5
}
