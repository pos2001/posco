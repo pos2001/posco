{
 "cells": [
  {
   "cell_type": "markdown",
   "id": "3cda6968-820d-482a-8543-86be4045d5c2",
   "metadata": {},
   "source": [
    "오류 정정 알고리즘의 예시\n",
    "\n",
    "This repetition code is able to correct up to one bit-flip error in the circuit, but not two or more bit-flips."
   ]
  },
  {
   "cell_type": "code",
   "execution_count": 1,
   "id": "55cb00a3-6f04-4bc1-b530-eed8128fb5fd",
   "metadata": {},
   "outputs": [
    {
     "name": "stdout",
     "output_type": "stream",
     "text": [
      "3.10.14 | packaged by conda-forge | (main, Mar 20 2024, 12:45:18) [GCC 12.3.0]\n"
     ]
    }
   ],
   "source": [
    "import sys\n",
    "print(sys.version)"
   ]
  },
  {
   "cell_type": "code",
   "execution_count": 4,
   "id": "98fd381b-35e0-40aa-914e-3f04926cbb84",
   "metadata": {},
   "outputs": [
    {
     "data": {
      "text/plain": [
       "Circuit('instructions': [Instruction('operator': X('qubit_count': 1), 'target': QubitSet([Qubit(0)]), 'control': QubitSet([]), 'control_state': (), 'power': 1), Instruction('operator': CNot('qubit_count': 2), 'target': QubitSet([Qubit(0), Qubit(1)]), 'control': QubitSet([]), 'control_state': (), 'power': 1), Instruction('operator': CNot('qubit_count': 2), 'target': QubitSet([Qubit(0), Qubit(2)]), 'control': QubitSet([]), 'control_state': (), 'power': 1)])"
      ]
     },
     "execution_count": 4,
     "metadata": {},
     "output_type": "execute_result"
    }
   ],
   "source": [
    "from braket.circuits import Circuit, Noise\n",
    "from braket.devices import LocalSimulator\n",
    "from braket.aws import AwsDevice\n",
    "\n",
    "# 3큐비트 비트 플립 오류 정정 코드의 인코딩 단계\n",
    "\n",
    "# step 1: prepare an initial state\n",
    "circuit = Circuit().x(0) \n",
    "\n",
    "# step 2: apply bit flip code\n",
    "circuit.cnot(0,1).cnot(0,2) \n"
   ]
  },
  {
   "cell_type": "markdown",
   "id": "ae4ab6f3-c4df-4093-9453-6f7df5ad3b8f",
   "metadata": {},
   "source": [
    "(|111⟩ 상태가 됩니다"
   ]
  },
  {
   "cell_type": "code",
   "execution_count": 5,
   "id": "51f933c0-e752-4e03-85cd-1f7ecc0871d8",
   "metadata": {},
   "outputs": [
    {
     "name": "stdout",
     "output_type": "stream",
     "text": [
      "[array([0.01, 0.99])]\n"
     ]
    }
   ],
   "source": [
    "#각 큐비트(0, 1, 2)에 대해 10% 확률로 비트 플립 노이즈를 적용\n",
    "# step 3: add noise to the circuit\n",
    "for i in range(3):\n",
    "     circuit.bit_flip(i,0.1) \n",
    "\n",
    "# step 4: error correction\n",
    "# 오류 정정 적용\n",
    "# CCNOT (Toffoli 게이트): \n",
    "circuit.cnot(0,1).cnot(0,2).ccnot(1,2,0) \n",
    "\n",
    "# measure the probability of qubit 0\n",
    "circuit.probability(0)\n",
    "\n",
    "# Use this line to run the local density matrix simulator\n",
    "dev = LocalSimulator(\"braket_dm\")\n",
    "\n",
    "# Use this line to run the managed density matrix simulator DM1\n",
    "dev = AwsDevice(\"arn:aws:braket:::device/quantum-simulator/amazon/dm1\")\n",
    "\n",
    "task = dev.run(circuit, shots=100)\n",
    "print(task.result().values)"
   ]
  },
  {
   "cell_type": "code",
   "execution_count": null,
   "id": "02b0e6ad-3edc-4ed2-8c1c-55a651939869",
   "metadata": {},
   "outputs": [],
   "source": []
  }
 ],
 "metadata": {
  "kernelspec": {
   "display_name": "conda_braket",
   "language": "python",
   "name": "conda_braket"
  },
  "language_info": {
   "codemirror_mode": {
    "name": "ipython",
    "version": 3
   },
   "file_extension": ".py",
   "mimetype": "text/x-python",
   "name": "python",
   "nbconvert_exporter": "python",
   "pygments_lexer": "ipython3",
   "version": "3.10.14"
  }
 },
 "nbformat": 4,
 "nbformat_minor": 5
}
