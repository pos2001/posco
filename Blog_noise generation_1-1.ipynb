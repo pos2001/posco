{
 "cells": [
  {
   "cell_type": "markdown",
   "id": "e8d7a6cb-b8db-419d-a935-d862ad7370a9",
   "metadata": {},
   "source": [
    "'01' 또는 '10'을 발생시키지 못함"
   ]
  },
  {
   "cell_type": "code",
   "execution_count": 1,
   "id": "13c5e81c-c8a0-4145-9559-9950071ac9f7",
   "metadata": {
    "tags": []
   },
   "outputs": [],
   "source": [
    "# general imports\n",
    "import matplotlib.pyplot as plt\n",
    "%matplotlib inline\n",
    "\n",
    "import boto3\n",
    "from braket.aws import AwsDevice\n",
    "from braket.circuits import Circuit, Noise\n",
    "from braket.devices import LocalSimulator"
   ]
  },
  {
   "cell_type": "code",
   "execution_count": 2,
   "id": "6dbf2370-e524-48f4-8339-7bd558716a32",
   "metadata": {
    "tags": []
   },
   "outputs": [],
   "source": [
    "# 노이즈 시뮬레이터 디바이스 선택\n",
    "device = AwsDevice(\"arn:aws:braket:::device/quantum-simulator/amazon/dm1\")"
   ]
  },
  {
   "cell_type": "markdown",
   "id": "aecd446f-5c48-469b-a7b9-8d6a3f3c295d",
   "metadata": {},
   "source": [
    "we add a noise channel right after each gate\n",
    "\n",
    "1.\t첫 번째 큐비트를 중첩 상태로 만듭니다.\n",
    "\n",
    "2.\t비트 플립 노이즈를 적용합니다.\n",
    "\n",
    "3.\t두 큐비트를 얽힘 상태로 만듭니다.\n",
    "\n",
    "4.\t위상 플립 노이즈를 적용합니다\n"
   ]
  },
  {
   "cell_type": "code",
   "execution_count": 3,
   "id": "c23e3aac-d364-492a-a427-14ff6dd5102e",
   "metadata": {
    "tags": []
   },
   "outputs": [],
   "source": [
    "# 간단한 양자 회로 생성\n",
    "from braket.circuits import Circuit\n",
    "circuit = Circuit().h(0).bit_flip(0,0.1).cnot(0,1).phase_flip(0,0.1)"
   ]
  },
  {
   "cell_type": "code",
   "execution_count": 4,
   "id": "ee336f7e-58a2-45d7-8e30-18210ee777d8",
   "metadata": {
    "tags": []
   },
   "outputs": [
    {
     "name": "stdout",
     "output_type": "stream",
     "text": [
      "T  : │        0        │        1        │\n",
      "      ┌───┐ ┌─────────┐       ┌─────────┐ \n",
      "q0 : ─┤ H ├─┤ BF(0.1) ├───●───┤ PF(0.1) ├─\n",
      "      └───┘ └─────────┘   │   └─────────┘ \n",
      "                        ┌─┴─┐             \n",
      "q1 : ───────────────────┤ X ├─────────────\n",
      "                        └───┘             \n",
      "T  : │        0        │        1        │\n"
     ]
    }
   ],
   "source": [
    "print(circuit)"
   ]
  },
  {
   "cell_type": "code",
   "execution_count": 5,
   "id": "b541a86d-fd5d-4af5-879c-78b4f757e4c3",
   "metadata": {
    "tags": []
   },
   "outputs": [
    {
     "name": "stdout",
     "output_type": "stream",
     "text": [
      "Counter({'11': 5062, '00': 4938})\n"
     ]
    }
   ],
   "source": [
    "result = device.run(circuit, shots=10000).result()\n",
    "counts = result.measurement_counts\n",
    "# print counts\n",
    "print(counts)"
   ]
  },
  {
   "cell_type": "code",
   "execution_count": 6,
   "id": "344b1873-3ccb-40c8-ad7d-6db12b71ca6a",
   "metadata": {
    "tags": []
   },
   "outputs": [
    {
     "name": "stdout",
     "output_type": "stream",
     "text": [
      "Counter({'11': 5062, '00': 4938})\n"
     ]
    }
   ],
   "source": [
    "# 결과 출력\n",
    "print(result.measurement_counts)"
   ]
  },
  {
   "cell_type": "code",
   "execution_count": 7,
   "id": "3023c4b3-da9b-4cf7-a84f-4b030aefd4fa",
   "metadata": {
    "tags": []
   },
   "outputs": [
    {
     "data": {
      "image/png": "[encoded data removed]",
      "text/plain": [
       "<Figure size 640x480 with 1 Axes>"
      ]
     },
     "metadata": {},
     "output_type": "display_data"
    }
   ],
   "source": [
    "# plot using Counter\n",
    "plt.bar(counts.keys(), counts.values());\n",
    "plt.xlabel('bitstrings');\n",
    "plt.ylabel('counts');"
   ]
  },
  {
   "cell_type": "code",
   "execution_count": null,
   "id": "cd299a8b-59f5-4f27-8010-d4be3b269448",
   "metadata": {},
   "outputs": [],
   "source": []
  }
 ],
 "metadata": {
  "kernelspec": {
   "display_name": "conda_braket",
   "language": "python",
   "name": "conda_braket"
  },
  "language_info": {
   "codemirror_mode": {
    "name": "ipython",
    "version": 3
   },
   "file_extension": ".py",
   "mimetype": "text/x-python",
   "name": "python",
   "nbconvert_exporter": "python",
   "pygments_lexer": "ipython3",
   "version": "3.10.14"
  }
 },
 "nbformat": 4,
 "nbformat_minor": 5
}
